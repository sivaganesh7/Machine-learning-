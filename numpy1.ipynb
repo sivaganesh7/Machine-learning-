{
  "nbformat": 4,
  "nbformat_minor": 0,
  "metadata": {
    "colab": {
      "provenance": [],
      "authorship_tag": "ABX9TyOoCyIwV4PKll7giAjAvd5M",
      "include_colab_link": true
    },
    "kernelspec": {
      "name": "python3",
      "display_name": "Python 3"
    },
    "language_info": {
      "name": "python"
    }
  },
  "cells": [
    {
      "cell_type": "markdown",
      "metadata": {
        "id": "view-in-github",
        "colab_type": "text"
      },
      "source": [
        "<a href=\"https://colab.research.google.com/github/sivaganesh7/Machine-learning-/blob/note-books/numpy1.ipynb\" target=\"_parent\"><img src=\"https://colab.research.google.com/assets/colab-badge.svg\" alt=\"Open In Colab\"/></a>"
      ]
    },
    {
      "cell_type": "markdown",
      "source": [
        "# Numpy Module Course\n"
      ],
      "metadata": {
        "id": "yJdgjN5FahXZ"
      }
    },
    {
      "cell_type": "markdown",
      "source": [
        "##start module\n"
      ],
      "metadata": {
        "id": "jq60ak1wa0Jg"
      }
    },
    {
      "cell_type": "code",
      "source": [
        "pip install numpy\n"
      ],
      "metadata": {
        "colab": {
          "base_uri": "https://localhost:8080/"
        },
        "id": "XEb7_wdNa8Cn",
        "outputId": "8f97e60f-053d-4588-cab7-a937f345de0d"
      },
      "execution_count": null,
      "outputs": [
        {
          "output_type": "stream",
          "name": "stdout",
          "text": [
            "Requirement already satisfied: numpy in /usr/local/lib/python3.10/dist-packages (1.26.4)\n"
          ]
        }
      ]
    },
    {
      "cell_type": "code",
      "source": [
        "import numpy as n"
      ],
      "metadata": {
        "id": "nsoD8dEAbGUX"
      },
      "execution_count": 3,
      "outputs": []
    },
    {
      "cell_type": "code",
      "source": [
        "a=n.array([[1,2,3,4],[5,6,7,8]])\n",
        "print(a)\n",
        "print(\"size: \",a.size)\n",
        "print(\"item size: \",a.itemsize)\n",
        "print(\"shape: \",a.shape)\n",
        "print(\"dimension: \",a.ndim)\n",
        "a1=n.arange(1,7) #arange method\n",
        "print(a1.reshape(2,3))#reshape method\n",
        "print(a1)\n",
        "b=n.ones((3,3),dtype=complex) #ones\n",
        "print(b)\n",
        "print(\"chanege dtype: \",b.astype(int))\n",
        "print(b)\n",
        "n.zeros((3,3),dtype=int) #zeros\n",
        "c=n.eye((3),dtype=int) #identy\n",
        "print(c)\n",
        "d=n.identity((3),dtype=int)\n",
        "print(d)\n",
        "print(n.linspace(-10,10,10))\n",
        "arr = n.array(['apple', 'banana', 'cherry'],dtype=bool)\n",
        "print(arr)\n",
        "print(arr.dtype)\n"
      ],
      "metadata": {
        "colab": {
          "base_uri": "https://localhost:8080/"
        },
        "id": "Ayf4lEaTbLJ4",
        "outputId": "84e55916-0ace-4e87-be29-6f4945ad53c0"
      },
      "execution_count": null,
      "outputs": [
        {
          "output_type": "stream",
          "name": "stdout",
          "text": [
            "[[1 2 3 4]\n",
            " [5 6 7 8]]\n",
            "size:  8\n",
            "item size:  8\n",
            "shape:  (2, 4)\n",
            "dimension:  2\n",
            "[[1 2 3]\n",
            " [4 5 6]]\n",
            "[1 2 3 4 5 6]\n",
            "[[1.+0.j 1.+0.j 1.+0.j]\n",
            " [1.+0.j 1.+0.j 1.+0.j]\n",
            " [1.+0.j 1.+0.j 1.+0.j]]\n",
            "chanege dtype:  [[1 1 1]\n",
            " [1 1 1]\n",
            " [1 1 1]]\n",
            "[[1.+0.j 1.+0.j 1.+0.j]\n",
            " [1.+0.j 1.+0.j 1.+0.j]\n",
            " [1.+0.j 1.+0.j 1.+0.j]]\n",
            "[[1 0 0]\n",
            " [0 1 0]\n",
            " [0 0 1]]\n",
            "[[1 0 0]\n",
            " [0 1 0]\n",
            " [0 0 1]]\n",
            "[-10.          -7.77777778  -5.55555556  -3.33333333  -1.11111111\n",
            "   1.11111111   3.33333333   5.55555556   7.77777778  10.        ]\n",
            "[ True  True  True]\n",
            "bool\n"
          ]
        },
        {
          "output_type": "stream",
          "name": "stderr",
          "text": [
            "<ipython-input-49-9efbdc04841c>:12: ComplexWarning: Casting complex values to real discards the imaginary part\n",
            "  print(\"chanege dtype: \",b.astype(int))\n"
          ]
        }
      ]
    },
    {
      "cell_type": "code",
      "source": [],
      "metadata": {
        "id": "ipqdB9WihIVB"
      },
      "execution_count": null,
      "outputs": []
    },
    {
      "cell_type": "markdown",
      "source": [
        "##Data Types in NumPy\n"
      ],
      "metadata": {
        "id": "NrJ7HGkxl6cv"
      }
    },
    {
      "cell_type": "markdown",
      "source": [
        "NumPy has some extra data types, and refer to data types with one character, like i for integers, u for unsigned integers etc.\n",
        "\n",
        "1.**strings** - used to represent text data, the text is given under quote marks. e.g. \"ABCD\".\n",
        "\n",
        "2.**integer** - used to represent integer numbers. e.g. -1, -2, -3    \n",
        "\n",
        "3.**float** - used to represent real numbers. e.g. 1.2, 42.42.\n",
        "\n",
        "4.**boolean** - used to represent True or False.\n",
        "\n",
        "5.**complex** - used to represent complex numbers. e.g. 1.0 + 2.0j, 1.5 + 2.5j.\n",
        "\n",
        "i - integer\n",
        "\n",
        "b - boolean\n",
        "\n",
        "u - unsigned integer\n",
        "\n",
        "f - float\n",
        "\n",
        "c - complex float\n",
        "\n",
        "m - timedelta\n",
        "\n",
        "M - datetime\n",
        "\n",
        "O - object\n",
        "\n",
        "S - string\n",
        "\n",
        "U - unicode string\n",
        "\n",
        "V - fixed chunk of memory for other type ( void ) *italicized text*"
      ],
      "metadata": {
        "id": "pIQHEcfcmWeG"
      }
    },
    {
      "cell_type": "code",
      "source": [
        "a=n.array([[1,2,3,4],[5,6,7,8]])\n",
        "print(a.dtype)\n",
        "\n",
        "arr = n.array(['apple', 'banana', 'cherry'],dtype=bool)\n",
        "print(arr)\n",
        "print(arr.dtype)\n",
        "\n",
        "n.zeros((2,3),dtype=int) #zeros"
      ],
      "metadata": {
        "colab": {
          "base_uri": "https://localhost:8080/"
        },
        "id": "Nw0nCOEImvEF",
        "outputId": "553bf8f1-cb76-4e22-c073-37b2305dfc5c"
      },
      "execution_count": null,
      "outputs": [
        {
          "output_type": "stream",
          "name": "stdout",
          "text": [
            "int64\n",
            "[ True  True  True]\n",
            "bool\n"
          ]
        },
        {
          "output_type": "execute_result",
          "data": {
            "text/plain": [
              "array([[0, 0, 0],\n",
              "       [0, 0, 0]])"
            ]
          },
          "metadata": {},
          "execution_count": 51
        }
      ]
    },
    {
      "cell_type": "markdown",
      "source": [
        "#Array Functions"
      ],
      "metadata": {
        "id": "Uq3H1hDlEgZY"
      }
    },
    {
      "cell_type": "code",
      "source": [
        "a=n.array([[1,2,3],[88,24,55]])\n",
        "print(a)\n",
        "print(a.shape)\n",
        "print(n.max(a))\n",
        "print(\"axis=1 means row wise: \",n.max(a,axis=1))\n",
        "print(\"axis=0 means column wise: \",n.max(a,axis=0))\n",
        "print(n.min(a))\n",
        "print(n.sum(a))\n",
        "print(n.prod(a))\n",
        "print(\"array split: \",n.array_split(a,3,axis=1))\n",
        "print(\"where: \",n.where(a==88))\n",
        "\n",
        "\n",
        "\n"
      ],
      "metadata": {
        "colab": {
          "base_uri": "https://localhost:8080/"
        },
        "id": "uEESe4OJE2xf",
        "outputId": "5147bf83-dc7a-49f4-83a1-8e1032b8c600"
      },
      "execution_count": 27,
      "outputs": [
        {
          "output_type": "stream",
          "name": "stdout",
          "text": [
            "[[ 1  2  3]\n",
            " [88 24 55]]\n",
            "(2, 3)\n",
            "88\n",
            "axis=1 means row wise:  [ 3 88]\n",
            "axis=0 means column wise:  [88 24 55]\n",
            "1\n",
            "173\n",
            "696960\n",
            "array split:  [array([[ 1],\n",
            "       [88]]), array([[ 2],\n",
            "       [24]]), array([[ 3],\n",
            "       [55]])]\n",
            "where:  (array([1]), array([0]))\n",
            "0.16553615698481294\n"
          ]
        }
      ]
    },
    {
      "cell_type": "markdown",
      "source": [
        "#**Slicing**\n"
      ],
      "metadata": {
        "id": "Ig4a6aNSExfo"
      }
    },
    {
      "cell_type": "code",
      "source": [
        "a1=n.array([[1,2,3],[4,5,6]])\n",
        "a2=n.array([[7,8],[9,10],[11,12]])\n",
        "print(\"a1=\",a1,end=\"\\n\")\n",
        "# print(\"a2=\",a2)\n",
        "\n",
        "print(\"\\n\",a2[0:])"
      ],
      "metadata": {
        "colab": {
          "base_uri": "https://localhost:8080/",
          "height": 219
        },
        "id": "mbqGVyxkE68I",
        "outputId": "900a56b0-93fb-4d3e-d4c1-f6d73dfaf2df"
      },
      "execution_count": 59,
      "outputs": [
        {
          "output_type": "stream",
          "name": "stdout",
          "text": [
            "a1= [[1 2 3]\n",
            " [4 5 6]]\n"
          ]
        },
        {
          "output_type": "error",
          "ename": "IndexError",
          "evalue": "too many indices for array: array is 2-dimensional, but 3 were indexed",
          "traceback": [
            "\u001b[0;31m---------------------------------------------------------------------------\u001b[0m",
            "\u001b[0;31mIndexError\u001b[0m                                Traceback (most recent call last)",
            "\u001b[0;32m<ipython-input-59-cb4b3eef66c1>\u001b[0m in \u001b[0;36m<cell line: 6>\u001b[0;34m()\u001b[0m\n\u001b[1;32m      4\u001b[0m \u001b[0;31m# print(\"a2=\",a2)\u001b[0m\u001b[0;34m\u001b[0m\u001b[0;34m\u001b[0m\u001b[0m\n\u001b[1;32m      5\u001b[0m \u001b[0;34m\u001b[0m\u001b[0m\n\u001b[0;32m----> 6\u001b[0;31m \u001b[0mprint\u001b[0m\u001b[0;34m(\u001b[0m\u001b[0;34m\"\\n\"\u001b[0m\u001b[0;34m,\u001b[0m\u001b[0ma2\u001b[0m\u001b[0;34m[\u001b[0m\u001b[0;36m0\u001b[0m\u001b[0;34m,\u001b[0m\u001b[0;36m2\u001b[0m\u001b[0;34m,\u001b[0m\u001b[0;34m:\u001b[0m\u001b[0;34m]\u001b[0m\u001b[0;34m)\u001b[0m\u001b[0;34m\u001b[0m\u001b[0;34m\u001b[0m\u001b[0m\n\u001b[0m",
            "\u001b[0;31mIndexError\u001b[0m: too many indices for array: array is 2-dimensional, but 3 were indexed"
          ]
        }
      ]
    },
    {
      "cell_type": "markdown",
      "source": [
        "#Random Module\n"
      ],
      "metadata": {
        "id": "yGBjQ2oxV5qT"
      }
    },
    {
      "cell_type": "markdown",
      "source": [
        "##-->Random Methods:"
      ],
      "metadata": {
        "id": "0SYx87rlV_cT"
      }
    },
    {
      "cell_type": "code",
      "source": [
        "x=n.random.random() #random\n",
        "print(x)\n",
        "x=n.random.randint(1,20) #randint\n",
        "print(x)\n",
        "x=n.random.randint(1,20,(3,3)) #random integers b/w 1 and 20 with array size 3x3\n",
        "print(x)\n",
        "print(n.random.rand())\n",
        "#choice\n",
        "x=n.random.choice([1,2,3,4,5,6,7,8,9,10],(2,2)) #choice is select elements from give array\n",
        "print(x)\n",
        "#permutations\n",
        "arr = n.array([1, 2, 3, 4, 5])\n",
        "shuffled = n.random.permutation(arr)\n",
        "print(\"Shuffled array:\", shuffled)\n",
        "\n",
        "#dot product\n",
        "a1=n.array([[1,2,3],[4,5,6]])\n",
        "a2=n.array([[7,8],[9,10],[11,12]])\n",
        "print(n.dot(a1,a2))\n",
        "\n",
        "print(a2)\n"
      ],
      "metadata": {
        "colab": {
          "base_uri": "https://localhost:8080/"
        },
        "id": "PsRcNK6nWOUF",
        "outputId": "bd4447c9-7f42-41f7-9496-5ba7178ffae9"
      },
      "execution_count": 45,
      "outputs": [
        {
          "output_type": "stream",
          "name": "stdout",
          "text": [
            "0.2962735057040824\n",
            "13\n",
            "[[ 1  7  9]\n",
            " [ 1 12  8]\n",
            " [11 19 17]]\n",
            "0.71134195274865\n",
            "[[ 3  1]\n",
            " [ 5 10]]\n",
            "Shuffled array: [5 4 3 1 2]\n",
            "[[ 58  64]\n",
            " [139 154]]\n",
            "[[ 7  8]\n",
            " [ 9 10]\n",
            " [11 12]]\n"
          ]
        }
      ]
    }
  ]
}