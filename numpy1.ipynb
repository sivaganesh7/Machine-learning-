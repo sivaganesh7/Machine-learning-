{
  "nbformat": 4,
  "nbformat_minor": 0,
  "metadata": {
    "colab": {
      "provenance": [],
      "toc_visible": true,
      "authorship_tag": "ABX9TyOecVQGEJ25tiQAJdIgI2Zx",
      "include_colab_link": true
    },
    "kernelspec": {
      "name": "python3",
      "display_name": "Python 3"
    },
    "language_info": {
      "name": "python"
    }
  },
  "cells": [
    {
      "cell_type": "markdown",
      "metadata": {
        "id": "view-in-github",
        "colab_type": "text"
      },
      "source": [
        "<a href=\"https://colab.research.google.com/github/sivaganesh7/Machine-learning-/blob/note-books/numpy1.ipynb\" target=\"_parent\"><img src=\"https://colab.research.google.com/assets/colab-badge.svg\" alt=\"Open In Colab\"/></a>"
      ]
    },
    {
      "cell_type": "markdown",
      "source": [
        "# Numpy Module Course\n"
      ],
      "metadata": {
        "id": "yJdgjN5FahXZ"
      }
    },
    {
      "cell_type": "markdown",
      "source": [
        "##start module\n"
      ],
      "metadata": {
        "id": "jq60ak1wa0Jg"
      }
    },
    {
      "cell_type": "code",
      "source": [
        "pip install numpy\n"
      ],
      "metadata": {
        "colab": {
          "base_uri": "https://localhost:8080/"
        },
        "id": "XEb7_wdNa8Cn",
        "outputId": "8f97e60f-053d-4588-cab7-a937f345de0d"
      },
      "execution_count": 3,
      "outputs": [
        {
          "output_type": "stream",
          "name": "stdout",
          "text": [
            "Requirement already satisfied: numpy in /usr/local/lib/python3.10/dist-packages (1.26.4)\n"
          ]
        }
      ]
    },
    {
      "cell_type": "code",
      "source": [
        "import numpy as n"
      ],
      "metadata": {
        "id": "nsoD8dEAbGUX"
      },
      "execution_count": 4,
      "outputs": []
    },
    {
      "cell_type": "code",
      "source": [
        "a=n.array([[1,2,3,4],[5,6,7,8]])\n",
        "print(a)\n",
        "print(\"size: \",a.size)\n",
        "print(\"item size: \",a.itemsize)\n",
        "print(\"shape: \",a.shape)\n",
        "print(\"dimension: \",a.ndim)\n",
        "a1=n.arange(1,7) #arange method\n",
        "print(a1.reshape(2,3))#reshape method\n",
        "print(a1)\n",
        "b=n.ones((3,3),dtype=complex) #ones\n",
        "print(b)\n",
        "print(\"chanege dtype: \",b.astype(int))\n",
        "print(b)\n",
        "n.zeros((3,3),dtype=int) #zeros\n",
        "c=n.eye((3),dtype=int) #identy\n",
        "print(c)\n",
        "d=n.identity((3),dtype=int)\n",
        "print(d)\n",
        "print(n.linspace(-10,10,10))\n",
        "arr = n.array(['apple', 'banana', 'cherry'],dtype=bool)\n",
        "print(arr)\n",
        "print(arr.dtype)\n"
      ],
      "metadata": {
        "colab": {
          "base_uri": "https://localhost:8080/"
        },
        "id": "Ayf4lEaTbLJ4",
        "outputId": "84e55916-0ace-4e87-be29-6f4945ad53c0"
      },
      "execution_count": 49,
      "outputs": [
        {
          "output_type": "stream",
          "name": "stdout",
          "text": [
            "[[1 2 3 4]\n",
            " [5 6 7 8]]\n",
            "size:  8\n",
            "item size:  8\n",
            "shape:  (2, 4)\n",
            "dimension:  2\n",
            "[[1 2 3]\n",
            " [4 5 6]]\n",
            "[1 2 3 4 5 6]\n",
            "[[1.+0.j 1.+0.j 1.+0.j]\n",
            " [1.+0.j 1.+0.j 1.+0.j]\n",
            " [1.+0.j 1.+0.j 1.+0.j]]\n",
            "chanege dtype:  [[1 1 1]\n",
            " [1 1 1]\n",
            " [1 1 1]]\n",
            "[[1.+0.j 1.+0.j 1.+0.j]\n",
            " [1.+0.j 1.+0.j 1.+0.j]\n",
            " [1.+0.j 1.+0.j 1.+0.j]]\n",
            "[[1 0 0]\n",
            " [0 1 0]\n",
            " [0 0 1]]\n",
            "[[1 0 0]\n",
            " [0 1 0]\n",
            " [0 0 1]]\n",
            "[-10.          -7.77777778  -5.55555556  -3.33333333  -1.11111111\n",
            "   1.11111111   3.33333333   5.55555556   7.77777778  10.        ]\n",
            "[ True  True  True]\n",
            "bool\n"
          ]
        },
        {
          "output_type": "stream",
          "name": "stderr",
          "text": [
            "<ipython-input-49-9efbdc04841c>:12: ComplexWarning: Casting complex values to real discards the imaginary part\n",
            "  print(\"chanege dtype: \",b.astype(int))\n"
          ]
        }
      ]
    },
    {
      "cell_type": "code",
      "source": [],
      "metadata": {
        "id": "ipqdB9WihIVB"
      },
      "execution_count": null,
      "outputs": []
    },
    {
      "cell_type": "markdown",
      "source": [
        "##Data Types in NumPy\n"
      ],
      "metadata": {
        "id": "NrJ7HGkxl6cv"
      }
    },
    {
      "cell_type": "markdown",
      "source": [
        "NumPy has some extra data types, and refer to data types with one character, like i for integers, u for unsigned integers etc.\n",
        "\n",
        "1.**strings** - used to represent text data, the text is given under quote marks. e.g. \"ABCD\".\n",
        "\n",
        "2.**integer** - used to represent integer numbers. e.g. -1, -2, -3    \n",
        "\n",
        "3.**float** - used to represent real numbers. e.g. 1.2, 42.42.\n",
        "\n",
        "4.**boolean** - used to represent True or False.\n",
        "\n",
        "5.**complex** - used to represent complex numbers. e.g. 1.0 + 2.0j, 1.5 + 2.5j.\n",
        "\n",
        "i - integer\n",
        "\n",
        "b - boolean\n",
        "\n",
        "u - unsigned integer\n",
        "\n",
        "f - float\n",
        "\n",
        "c - complex float\n",
        "\n",
        "m - timedelta\n",
        "\n",
        "M - datetime\n",
        "\n",
        "O - object\n",
        "\n",
        "S - string\n",
        "\n",
        "U - unicode string\n",
        "\n",
        "V - fixed chunk of memory for other type ( void ) *italicized text*"
      ],
      "metadata": {
        "id": "pIQHEcfcmWeG"
      }
    },
    {
      "cell_type": "code",
      "source": [
        "a=n.array([[1,2,3,4],[5,6,7,8]])\n",
        "print(a.dtype)\n",
        "\n",
        "arr = n.array(['apple', 'banana', 'cherry'],dtype=bool)\n",
        "print(arr)\n",
        "print(arr.dtype)"
      ],
      "metadata": {
        "colab": {
          "base_uri": "https://localhost:8080/"
        },
        "id": "Nw0nCOEImvEF",
        "outputId": "450b0d10-b9e5-4daf-bb35-1e0355bd1469"
      },
      "execution_count": 50,
      "outputs": [
        {
          "output_type": "stream",
          "name": "stdout",
          "text": [
            "int64\n",
            "[ True  True  True]\n",
            "bool\n"
          ]
        }
      ]
    }
  ]
}