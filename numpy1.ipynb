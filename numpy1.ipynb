{
  "nbformat": 4,
  "nbformat_minor": 0,
  "metadata": {
    "colab": {
      "provenance": [],
      "authorship_tag": "ABX9TyNdCQbNLdTFoM1R1GAoL9V7",
      "include_colab_link": true
    },
    "kernelspec": {
      "name": "python3",
      "display_name": "Python 3"
    },
    "language_info": {
      "name": "python"
    }
  },
  "cells": [
    {
      "cell_type": "markdown",
      "metadata": {
        "id": "view-in-github",
        "colab_type": "text"
      },
      "source": [
        "<a href=\"https://colab.research.google.com/github/sivaganesh7/Machine-learning-/blob/note-books/numpy1.ipynb\" target=\"_parent\"><img src=\"https://colab.research.google.com/assets/colab-badge.svg\" alt=\"Open In Colab\"/></a>"
      ]
    },
    {
      "cell_type": "markdown",
      "source": [
        "# Numpy Module Course\n"
      ],
      "metadata": {
        "id": "yJdgjN5FahXZ"
      }
    },
    {
      "cell_type": "markdown",
      "source": [
        "##start module\n"
      ],
      "metadata": {
        "id": "jq60ak1wa0Jg"
      }
    },
    {
      "cell_type": "code",
      "source": [
        "pip install numpy\n"
      ],
      "metadata": {
        "colab": {
          "base_uri": "https://localhost:8080/"
        },
        "id": "XEb7_wdNa8Cn",
        "outputId": "3420e9b9-6f8f-4c85-8002-088e88669dd1"
      },
      "execution_count": 6,
      "outputs": [
        {
          "output_type": "stream",
          "name": "stdout",
          "text": [
            "Requirement already satisfied: numpy in /usr/local/lib/python3.10/dist-packages (1.26.4)\n"
          ]
        }
      ]
    },
    {
      "cell_type": "code",
      "source": [
        "import numpy as n"
      ],
      "metadata": {
        "id": "nsoD8dEAbGUX"
      },
      "execution_count": 7,
      "outputs": []
    },
    {
      "cell_type": "code",
      "source": [
        "a=n.array([[1,2,3,4],[5,6,7,8]])\n",
        "print(a)\n",
        "print(\"size: \",a.size)\n",
        "print(\"item size: \",a.itemsize)\n",
        "print(\"shape: \",a.shape)\n",
        "print(\"dimension: \",a.ndim)\n",
        "a1=n.arange(1,7) #arange method\n",
        "print(a1.reshape(2,3))#reshape method\n",
        "print(a1)\n",
        "b=n.ones((3,3),dtype=complex) #ones\n",
        "print(b)\n",
        "print(\"chanege dtype: \",b.astype(int))\n",
        "print(b)\n",
        "n.zeros((3,3),dtype=int) #zeros\n",
        "c=n.eye((3),dtype=int) #identy\n",
        "print(c)\n",
        "d=n.identity((3),dtype=int)\n",
        "print(d)\n",
        "print(n.linspace(-10,10,10))\n",
        "arr = n.array(['apple', 'banana', 'cherry'],dtype=bool)\n",
        "print(arr)\n",
        "print(arr.dtype)\n"
      ],
      "metadata": {
        "colab": {
          "base_uri": "https://localhost:8080/"
        },
        "id": "Ayf4lEaTbLJ4",
        "outputId": "11ae0b67-9645-40a3-800c-059e9350cca8"
      },
      "execution_count": 4,
      "outputs": [
        {
          "output_type": "stream",
          "name": "stdout",
          "text": [
            "[[1 2 3 4]\n",
            " [5 6 7 8]]\n",
            "size:  8\n",
            "item size:  8\n",
            "shape:  (2, 4)\n",
            "dimension:  2\n",
            "[[1 2 3]\n",
            " [4 5 6]]\n",
            "[1 2 3 4 5 6]\n",
            "[[1.+0.j 1.+0.j 1.+0.j]\n",
            " [1.+0.j 1.+0.j 1.+0.j]\n",
            " [1.+0.j 1.+0.j 1.+0.j]]\n",
            "chanege dtype:  [[1 1 1]\n",
            " [1 1 1]\n",
            " [1 1 1]]\n",
            "[[1.+0.j 1.+0.j 1.+0.j]\n",
            " [1.+0.j 1.+0.j 1.+0.j]\n",
            " [1.+0.j 1.+0.j 1.+0.j]]\n",
            "[[1 0 0]\n",
            " [0 1 0]\n",
            " [0 0 1]]\n",
            "[[1 0 0]\n",
            " [0 1 0]\n",
            " [0 0 1]]\n",
            "[-10.          -7.77777778  -5.55555556  -3.33333333  -1.11111111\n",
            "   1.11111111   3.33333333   5.55555556   7.77777778  10.        ]\n",
            "[ True  True  True]\n",
            "bool\n"
          ]
        },
        {
          "output_type": "stream",
          "name": "stderr",
          "text": [
            "<ipython-input-4-1fc0031e27bb>:12: ComplexWarning: Casting complex values to real discards the imaginary part\n",
            "  print(\"chanege dtype: \",b.astype(int))\n"
          ]
        }
      ]
    },
    {
      "cell_type": "code",
      "source": [],
      "metadata": {
        "id": "ipqdB9WihIVB"
      },
      "execution_count": 4,
      "outputs": []
    },
    {
      "cell_type": "markdown",
      "source": [
        "##Data Types in NumPy\n"
      ],
      "metadata": {
        "id": "NrJ7HGkxl6cv"
      }
    },
    {
      "cell_type": "markdown",
      "source": [
        "NumPy has some extra data types, and refer to data types with one character, like i for integers, u for unsigned integers etc.\n",
        "\n",
        "1.**strings** - used to represent text data, the text is given under quote marks. e.g. \"ABCD\".\n",
        "\n",
        "2.**integer** - used to represent integer numbers. e.g. -1, -2, -3    \n",
        "\n",
        "3.**float** - used to represent real numbers. e.g. 1.2, 42.42.\n",
        "\n",
        "4.**boolean** - used to represent True or False.\n",
        "\n",
        "5.**complex** - used to represent complex numbers. e.g. 1.0 + 2.0j, 1.5 + 2.5j.\n",
        "\n",
        "i - integer\n",
        "\n",
        "b - boolean\n",
        "\n",
        "u - unsigned integer\n",
        "\n",
        "f - float\n",
        "\n",
        "c - complex float\n",
        "\n",
        "m - timedelta\n",
        "\n",
        "M - datetime\n",
        "\n",
        "O - object\n",
        "\n",
        "S - string\n",
        "\n",
        "U - unicode string\n",
        "\n",
        "V - fixed chunk of memory for other type ( void ) *italicized text*"
      ],
      "metadata": {
        "id": "pIQHEcfcmWeG"
      }
    },
    {
      "cell_type": "code",
      "source": [
        "a=n.array([[1,2,3,4],[5,6,7,8]])\n",
        "print(a.dtype)\n",
        "\n",
        "arr = n.array(['apple', 'banana', 'cherry'],dtype=bool)\n",
        "print(arr)\n",
        "print(arr.dtype)\n",
        "\n",
        "n.zeros((2,3),dtype=int) #zeros"
      ],
      "metadata": {
        "colab": {
          "base_uri": "https://localhost:8080/"
        },
        "id": "Nw0nCOEImvEF",
        "outputId": "1472792a-911a-4c59-9c42-912610838d62"
      },
      "execution_count": 5,
      "outputs": [
        {
          "output_type": "stream",
          "name": "stdout",
          "text": [
            "int64\n",
            "[ True  True  True]\n",
            "bool\n"
          ]
        },
        {
          "output_type": "execute_result",
          "data": {
            "text/plain": [
              "array([[0, 0, 0],\n",
              "       [0, 0, 0]])"
            ]
          },
          "metadata": {},
          "execution_count": 5
        }
      ]
    },
    {
      "cell_type": "markdown",
      "source": [
        "#Array Functions"
      ],
      "metadata": {
        "id": "Uq3H1hDlEgZY"
      }
    },
    {
      "cell_type": "code",
      "source": [
        "a=n.array([[1,2,3],[88,24,55]])\n",
        "print(a)\n",
        "print(a.shape)\n",
        "print(n.max(a))\n",
        "print(\"axis=1 means row wise: \",n.max(a,axis=1))\n",
        "print(\"axis=0 means column wise: \",n.max(a,axis=0))\n",
        "print(n.min(a))\n",
        "print(n.sum(a))\n",
        "print(n.prod(a))\n",
        "print(\"array split: \",n.array_split(a,3,axis=1))\n",
        "print(\"where: \",n.where(a==88))\n",
        "\n",
        "\n",
        "\n"
      ],
      "metadata": {
        "colab": {
          "base_uri": "https://localhost:8080/"
        },
        "id": "uEESe4OJE2xf",
        "outputId": "5147bf83-dc7a-49f4-83a1-8e1032b8c600"
      },
      "execution_count": null,
      "outputs": [
        {
          "output_type": "stream",
          "name": "stdout",
          "text": [
            "[[ 1  2  3]\n",
            " [88 24 55]]\n",
            "(2, 3)\n",
            "88\n",
            "axis=1 means row wise:  [ 3 88]\n",
            "axis=0 means column wise:  [88 24 55]\n",
            "1\n",
            "173\n",
            "696960\n",
            "array split:  [array([[ 1],\n",
            "       [88]]), array([[ 2],\n",
            "       [24]]), array([[ 3],\n",
            "       [55]])]\n",
            "where:  (array([1]), array([0]))\n",
            "0.16553615698481294\n"
          ]
        }
      ]
    },
    {
      "cell_type": "markdown",
      "source": [
        "#**Slicing**\n"
      ],
      "metadata": {
        "id": "Ig4a6aNSExfo"
      }
    },
    {
      "cell_type": "code",
      "source": [
        "a1=n.array([[1,2,3],[4,5,6]])\n",
        "a2=n.array([[7,8],[9,10],[11,12]])\n",
        "print(\"a1=\",a1,end=\"\\n\")\n",
        "# print(\"a2=\",a2)\n",
        "\n",
        "print(\"\\n\",a2[0:])"
      ],
      "metadata": {
        "colab": {
          "base_uri": "https://localhost:8080/",
          "height": 219
        },
        "id": "mbqGVyxkE68I",
        "outputId": "900a56b0-93fb-4d3e-d4c1-f6d73dfaf2df"
      },
      "execution_count": null,
      "outputs": [
        {
          "output_type": "stream",
          "name": "stdout",
          "text": [
            "a1= [[1 2 3]\n",
            " [4 5 6]]\n"
          ]
        },
        {
          "output_type": "error",
          "ename": "IndexError",
          "evalue": "too many indices for array: array is 2-dimensional, but 3 were indexed",
          "traceback": [
            "\u001b[0;31m---------------------------------------------------------------------------\u001b[0m",
            "\u001b[0;31mIndexError\u001b[0m                                Traceback (most recent call last)",
            "\u001b[0;32m<ipython-input-59-cb4b3eef66c1>\u001b[0m in \u001b[0;36m<cell line: 6>\u001b[0;34m()\u001b[0m\n\u001b[1;32m      4\u001b[0m \u001b[0;31m# print(\"a2=\",a2)\u001b[0m\u001b[0;34m\u001b[0m\u001b[0;34m\u001b[0m\u001b[0m\n\u001b[1;32m      5\u001b[0m \u001b[0;34m\u001b[0m\u001b[0m\n\u001b[0;32m----> 6\u001b[0;31m \u001b[0mprint\u001b[0m\u001b[0;34m(\u001b[0m\u001b[0;34m\"\\n\"\u001b[0m\u001b[0;34m,\u001b[0m\u001b[0ma2\u001b[0m\u001b[0;34m[\u001b[0m\u001b[0;36m0\u001b[0m\u001b[0;34m,\u001b[0m\u001b[0;36m2\u001b[0m\u001b[0;34m,\u001b[0m\u001b[0;34m:\u001b[0m\u001b[0;34m]\u001b[0m\u001b[0;34m)\u001b[0m\u001b[0;34m\u001b[0m\u001b[0;34m\u001b[0m\u001b[0m\n\u001b[0m",
            "\u001b[0;31mIndexError\u001b[0m: too many indices for array: array is 2-dimensional, but 3 were indexed"
          ]
        }
      ]
    },
    {
      "cell_type": "markdown",
      "source": [
        "#Random Module\n"
      ],
      "metadata": {
        "id": "yGBjQ2oxV5qT"
      }
    },
    {
      "cell_type": "markdown",
      "source": [
        "##-->Random Methods:"
      ],
      "metadata": {
        "id": "0SYx87rlV_cT"
      }
    },
    {
      "cell_type": "code",
      "source": [
        "x=n.random.random() #random\n",
        "print(x)\n",
        "x=n.random.randint(1,20) #randint\n",
        "print(x)\n",
        "x=n.random.randint(1,20,(3,3)) #random integers b/w 1 and 20 with array size 3x3\n",
        "print(x)\n",
        "print(n.random.rand())\n",
        "#choice\n",
        "x=n.random.choice([1,2,3,4,5,6,7,8,9,10],(2,2)) #choice is select elements from give array\n",
        "print(x)\n",
        "#permutations\n",
        "arr = n.array([1, 2, 3, 4, 5])\n",
        "shuffled = n.random.permutation(arr)\n",
        "print(\"Shuffled array:\", shuffled)\n",
        "\n",
        "#dot product\n",
        "a1=n.array([[1,2,3],[4,5,6]])\n",
        "a2=n.array([[7,8],[9,10],[11,12]])\n",
        "print(n.dot(a1,a2))\n",
        "\n",
        "print(a2)\n"
      ],
      "metadata": {
        "colab": {
          "base_uri": "https://localhost:8080/"
        },
        "id": "PsRcNK6nWOUF",
        "outputId": "bd4447c9-7f42-41f7-9496-5ba7178ffae9"
      },
      "execution_count": null,
      "outputs": [
        {
          "output_type": "stream",
          "name": "stdout",
          "text": [
            "0.2962735057040824\n",
            "13\n",
            "[[ 1  7  9]\n",
            " [ 1 12  8]\n",
            " [11 19 17]]\n",
            "0.71134195274865\n",
            "[[ 3  1]\n",
            " [ 5 10]]\n",
            "Shuffled array: [5 4 3 1 2]\n",
            "[[ 58  64]\n",
            " [139 154]]\n",
            "[[ 7  8]\n",
            " [ 9 10]\n",
            " [11 12]]\n"
          ]
        }
      ]
    },
    {
      "cell_type": "markdown",
      "source": [
        "#Assignment"
      ],
      "metadata": {
        "id": "8KYeaxk1R5o_"
      }
    },
    {
      "cell_type": "code",
      "source": [
        "a=n.arange(10,51,5)\n",
        "print(a)\n",
        "\n",
        "arr=n.array([[1, 2, 3], [4, 5, 6], [7, 8, 9]])\n",
        "print(arr)\n",
        "print(arr[1:3,0:2])\n",
        "arr[arr>4]=0\n",
        "print(arr)\n",
        "\n",
        "a= n.array([1, 2, 3])\n",
        "b =n.array([4, 5, 6])\n",
        "print(a)\n",
        "print(b)\n",
        "print(\"add=a,\"+b)\n",
        "print(a*b)\n",
        "\n"
      ],
      "metadata": {
        "colab": {
          "base_uri": "https://localhost:8080/",
          "height": 384
        },
        "id": "b9vUzvXhPAXt",
        "outputId": "741e4fb9-827e-4288-fcc3-57e58305a516"
      },
      "execution_count": null,
      "outputs": [
        {
          "output_type": "stream",
          "name": "stdout",
          "text": [
            "[10 15 20 25 30 35 40 45 50]\n",
            "[[1 2 3]\n",
            " [4 5 6]\n",
            " [7 8 9]]\n",
            "[[4 5]\n",
            " [7 8]]\n",
            "[[1 2 3]\n",
            " [4 0 0]\n",
            " [0 0 0]]\n",
            "[1 2 3]\n",
            "[4 5 6]\n"
          ]
        },
        {
          "output_type": "error",
          "ename": "UFuncTypeError",
          "evalue": "ufunc 'add' did not contain a loop with signature matching types (dtype('<U6'), dtype('int64')) -> None",
          "traceback": [
            "\u001b[0;31m---------------------------------------------------------------------------\u001b[0m",
            "\u001b[0;31mUFuncTypeError\u001b[0m                            Traceback (most recent call last)",
            "\u001b[0;32m<ipython-input-14-737d9f4a191a>\u001b[0m in \u001b[0;36m<cell line: 14>\u001b[0;34m()\u001b[0m\n\u001b[1;32m     12\u001b[0m \u001b[0mprint\u001b[0m\u001b[0;34m(\u001b[0m\u001b[0ma\u001b[0m\u001b[0;34m)\u001b[0m\u001b[0;34m\u001b[0m\u001b[0;34m\u001b[0m\u001b[0m\n\u001b[1;32m     13\u001b[0m \u001b[0mprint\u001b[0m\u001b[0;34m(\u001b[0m\u001b[0mb\u001b[0m\u001b[0;34m)\u001b[0m\u001b[0;34m\u001b[0m\u001b[0;34m\u001b[0m\u001b[0m\n\u001b[0;32m---> 14\u001b[0;31m \u001b[0mprint\u001b[0m\u001b[0;34m(\u001b[0m\u001b[0;34m\"add=a,\"\u001b[0m\u001b[0;34m+\u001b[0m\u001b[0mb\u001b[0m\u001b[0;34m)\u001b[0m\u001b[0;34m\u001b[0m\u001b[0;34m\u001b[0m\u001b[0m\n\u001b[0m\u001b[1;32m     15\u001b[0m \u001b[0mprint\u001b[0m\u001b[0;34m(\u001b[0m\u001b[0ma\u001b[0m\u001b[0;34m*\u001b[0m\u001b[0mb\u001b[0m\u001b[0;34m)\u001b[0m\u001b[0;34m\u001b[0m\u001b[0;34m\u001b[0m\u001b[0m\n",
            "\u001b[0;31mUFuncTypeError\u001b[0m: ufunc 'add' did not contain a loop with signature matching types (dtype('<U6'), dtype('int64')) -> None"
          ]
        }
      ]
    },
    {
      "cell_type": "code",
      "source": [
        "arr = n.array([1, 2, 3, 4])\n",
        "a=arr+4\n",
        "print(a*2)\n",
        "\n",
        "arr = n.random.randint(1, 101, size=(3, 4, 5))\n",
        "print(arr)\n",
        "second_layer = arr[1, :, :]\n",
        "print(second_layer)\n",
        "# Reshape the boolean mask to match the dimensions of arr\n",
        "mask = (arr % 3 == 0).reshape(arr.shape)\n",
        "arr[mask] = 1  # Apply the mask to modify arr\n",
        "print(arr)"
      ],
      "metadata": {
        "colab": {
          "base_uri": "https://localhost:8080/"
        },
        "id": "oiKgSq23bANy",
        "outputId": "6340554b-6509-4a3e-dcdf-e44838e3a513"
      },
      "execution_count": 22,
      "outputs": [
        {
          "output_type": "stream",
          "name": "stdout",
          "text": [
            "[10 12 14 16]\n",
            "[[[49 98 63 40 21]\n",
            "  [77 86 27  5 51]\n",
            "  [ 7 81 16 68 60]\n",
            "  [31 59 53 10 29]]\n",
            "\n",
            " [[ 4 51 98 94 50]\n",
            "  [36 12 39 53 62]\n",
            "  [94 50 72 58 39]\n",
            "  [99 30 31 70  1]]\n",
            "\n",
            " [[13 78 76 33 25]\n",
            "  [70 77 33 56 42]\n",
            "  [29 24 85 87 89]\n",
            "  [87  9 50 42 74]]]\n",
            "[[ 4 51 98 94 50]\n",
            " [36 12 39 53 62]\n",
            " [94 50 72 58 39]\n",
            " [99 30 31 70  1]]\n",
            "[[[49 98  1 40  1]\n",
            "  [77 86  1  5  1]\n",
            "  [ 7  1 16 68  1]\n",
            "  [31 59 53 10 29]]\n",
            "\n",
            " [[ 4  1 98 94 50]\n",
            "  [ 1  1  1 53 62]\n",
            "  [94 50  1 58  1]\n",
            "  [ 1  1 31 70  1]]\n",
            "\n",
            " [[13  1 76  1 25]\n",
            "  [70 77  1 56  1]\n",
            "  [29  1 85  1 89]\n",
            "  [ 1  1 50  1 74]]]\n"
          ]
        }
      ]
    }
  ]
}