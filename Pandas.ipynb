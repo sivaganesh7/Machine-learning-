{
  "cells": [
    {
      "cell_type": "markdown",
      "metadata": {
        "id": "view-in-github",
        "colab_type": "text"
      },
      "source": [
        "<a href=\"https://colab.research.google.com/github/sivaganesh7/Machine-learning-/blob/note-books/Pandas.ipynb\" target=\"_parent\"><img src=\"https://colab.research.google.com/assets/colab-badge.svg\" alt=\"Open In Colab\"/></a>"
      ]
    },
    {
      "cell_type": "code",
      "execution_count": 2,
      "metadata": {
        "id": "XUNJUhSR15Kq"
      },
      "outputs": [],
      "source": [
        "import pandas as pd\n",
        "import numpy as np"
      ]
    },
    {
      "cell_type": "markdown",
      "source": [
        "#**pandas series**"
      ],
      "metadata": {
        "id": "iVMn-fY52DgS"
      }
    },
    {
      "cell_type": "code",
      "source": [
        "s=pd.Series([12,2,3,6],index=['a', 'b', 'c', 'd'])\n",
        "print(s)\n",
        "print(s.describe())\n",
        "print(s.std())\n",
        "print(s.min())\n",
        "print(s.max())\n",
        "print(s.mean())\n",
        "print(s.shape)"
      ],
      "metadata": {
        "colab": {
          "base_uri": "https://localhost:8080/"
        },
        "id": "oLKDyJRS2zxZ",
        "outputId": "3f041d1b-9e44-4749-aa7d-2238f832a8cc"
      },
      "execution_count": null,
      "outputs": [
        {
          "output_type": "stream",
          "name": "stdout",
          "text": [
            "a    12\n",
            "b     2\n",
            "c     3\n",
            "d     6\n",
            "dtype: int64\n",
            "count     4.00\n",
            "mean      5.75\n",
            "std       4.50\n",
            "min       2.00\n",
            "25%       2.75\n",
            "50%       4.50\n",
            "75%       7.50\n",
            "max      12.00\n",
            "dtype: float64\n",
            "4.5\n",
            "2\n",
            "12\n",
            "5.75\n",
            "(4,)\n"
          ]
        }
      ]
    },
    {
      "cell_type": "markdown",
      "metadata": {
        "id": "OXXuY0sm15Ks"
      },
      "source": [
        "#Create DataFrames"
      ]
    },
    {
      "cell_type": "code",
      "execution_count": null,
      "metadata": {
        "colab": {
          "base_uri": "https://localhost:8080/"
        },
        "id": "C-0TwSyA15Ku",
        "outputId": "38e61287-d4aa-429e-f616-395dbe27a9e9",
        "collapsed": true
      },
      "outputs": [
        {
          "output_type": "stream",
          "name": "stdout",
          "text": [
            "    0\n",
            "0  10\n",
            "1  20\n",
            "2  25\n",
            "3   3\n",
            "4   4\n",
            "{'reg no': [28, 24, 30], 'Name': ['siva', 'sai', 'kumar'], 'CGPA': [8.9, 9.1, 9.6]}\n",
            "   reg no   Name  CGPA\n",
            "0      28   siva   8.9\n",
            "1      24    sai   9.1\n",
            "2      30  kumar   9.6\n",
            "\n",
            "    reg no   Name  CGPA\n",
            "0      28   siva   8.9\n",
            "1      24    sai   9.1\n",
            "2      30  kumar   9.6\n"
          ]
        }
      ],
      "source": [
        "dt=pd.DataFrame([10,20,25,3,4]) #DataFrame\n",
        "print(dt)\n",
        "stud={'reg no':[28,24,30],\n",
        "      'Name':['siva','sai','kumar'],\n",
        "      'CGPA':[8.9,9.1,9.6]}\n",
        "print(stud)\n",
        "std_dt=pd.DataFrame(stud) #DataFrame\n",
        "print(std_dt)\n",
        "print(\"\\n\",std_dt[std_dt['CGPA']>3])"
      ]
    },
    {
      "cell_type": "code",
      "source": [
        "# Team roles data\n",
        "roles_data = {\n",
        "    'Name': ['Dodagatta Nihar', 'Vignesh', 'Maheshwar', 'Naman', 'Naveen', 'Shreya', 'Varsha', 'Varun'],\n",
        "    'Role': ['Founder', 'Growth Manager', 'Community Manager', 'Community Manager', 'Community Manager',\n",
        "             'Course Designer', 'Course Designer', 'Public Relations Manager']\n",
        "}\n",
        "\n",
        "roles_df = pd.DataFrame(roles_data)\n",
        "\n",
        "# Contact information data\n",
        "contact_data = {\n",
        "    'Name': ['Dodagatta Nihar', 'Vignesh', 'Maheshwar', 'Naman', 'Naveen', 'Shreya', 'Varsha', 'Varun'],\n",
        "    'Phone Number': ['111-111-1111', '222-222-2222', '333-333-3333', '444-444-4444',\n",
        "                     '555-555-5555', '666-666-6666', '777-777-7777', '888-888-8888'],\n",
        "    'Email': ['nihar@masscoders.tech', 'vignesh@masscoders.tech', 'maheshwar@masscoders.tech', 'naman@masscoders.tech',\n",
        "              'naveen@masscoders.tech', 'shreya@masscoders.tech', 'varsha@masscoders.tech', 'varun@masscoders.tech']\n",
        "}\n",
        "\n",
        "contact_df = pd.DataFrame(contact_data)\n",
        ""
      ],
      "metadata": {
        "id": "C2YTfxx9b1p_"
      },
      "execution_count": 4,
      "outputs": []
    },
    {
      "cell_type": "markdown",
      "source": [
        "##DataFrame Methods:"
      ],
      "metadata": {
        "id": "suXkHVji9J3n"
      }
    },
    {
      "cell_type": "code",
      "source": [
        "stud={'Reg no':[28,24,30],\n",
        "      'Name':['siva','sai','kumar'],\n",
        "      'CGPA':[8.9,9.1,9.6]}\n",
        "std_dt=pd.DataFrame(stud)\n",
        "print(std_dt,\"\\n\")\n",
        "\n",
        "#methods\n",
        "print(\"\\nHead: \",std_dt.head(1)) #return upto first 5 records if not mention\n",
        "print(\"\\nTail: \",std_dt.tail()) #return upto last 5 records if not mention\n",
        "print(\"\\n\",std_dt.info()) # Summary of DataFrame\n",
        "print(\"\\n describe:\\n \",std_dt.describe())    # Statistics for numerical columns\n",
        "print(\"\\n shape: \",std_dt.shape)         # Dimensions of the DataFrame\n",
        "print(\"\\n colums: \",std_dt.columns)       # Column names\n",
        "print(\"\\n index: \",std_dt.index)         # Index range\n",
        "print(std_dt.loc[2])       # Select by index label\n",
        "print(std_dt.iloc[1])      # Select by index position\n",
        "\n"
      ],
      "metadata": {
        "id": "qyJ3YWL_9P-n"
      },
      "execution_count": null,
      "outputs": []
    },
    {
      "cell_type": "markdown",
      "source": [
        "##CSV Files\n"
      ],
      "metadata": {
        "id": "NvCIfcQrVUA-"
      }
    },
    {
      "cell_type": "code",
      "source": [
        "cf=pd.read_csv('coffee.csv')\n",
        "# print(cf)\n",
        "# print(cf.head())\n",
        "# print(cf.tail())\n",
        "# print(cf.info())\n",
        "# print(cf.describe())\n",
        "print(cf.to_string())\n",
        "excel1=pd.read_excel('example excel.xlsx')\n",
        "# print(excel1)\n",
        "print(excel1.to_string())\n",
        "print(pd.options.display.max_rows)\n",
        "print(pd.options.display.min_rows)\n",
        "\n",
        "\n"
      ],
      "metadata": {
        "id": "OklGlVTDVXUN"
      },
      "execution_count": null,
      "outputs": []
    },
    {
      "cell_type": "code",
      "source": [],
      "metadata": {
        "id": "6PR28IuhX3Z3"
      },
      "execution_count": null,
      "outputs": []
    },
    {
      "cell_type": "markdown",
      "source": [],
      "metadata": {
        "id": "2kz5cu3TtHQj"
      }
    },
    {
      "cell_type": "markdown",
      "source": [
        "#**Handling Missing Data:**"
      ],
      "metadata": {
        "id": "20w5qptCtIw7"
      }
    },
    {
      "cell_type": "code",
      "source": [
        "s=pd.Series([2,33,np.nan,20,33,np.nan,55])\n",
        "print(s)\n",
        "print(s.isnull()) #isnull\n",
        "print(s.notnull()) #isnotnull\n",
        "filled = s.fillna(9) #fills null places with some value\n",
        "print(filled)\n",
        "print(s.dropna())"
      ],
      "metadata": {
        "colab": {
          "base_uri": "https://localhost:8080/"
        },
        "id": "vwhK_1kDtSqZ",
        "outputId": "9c522882-2799-4a33-f2e3-35d94715b53a",
        "collapsed": true
      },
      "execution_count": null,
      "outputs": [
        {
          "output_type": "stream",
          "name": "stdout",
          "text": [
            "0     2.0\n",
            "1    33.0\n",
            "2     NaN\n",
            "3    20.0\n",
            "4    33.0\n",
            "5     NaN\n",
            "6    55.0\n",
            "dtype: float64\n",
            "0    False\n",
            "1    False\n",
            "2     True\n",
            "3    False\n",
            "4    False\n",
            "5     True\n",
            "6    False\n",
            "dtype: bool\n",
            "0     True\n",
            "1     True\n",
            "2    False\n",
            "3     True\n",
            "4     True\n",
            "5    False\n",
            "6     True\n",
            "dtype: bool\n",
            "0     2.0\n",
            "1    33.0\n",
            "2     9.0\n",
            "3    20.0\n",
            "4    33.0\n",
            "5     9.0\n",
            "6    55.0\n",
            "dtype: float64\n",
            "0     2.0\n",
            "1    33.0\n",
            "3    20.0\n",
            "4    33.0\n",
            "6    55.0\n",
            "dtype: float64\n"
          ]
        }
      ]
    },
    {
      "cell_type": "markdown",
      "source": [
        "#**Indexing, Slicing, and Filtering:**"
      ],
      "metadata": {
        "id": "u0h2TYsjwReA"
      }
    },
    {
      "cell_type": "markdown",
      "source": [
        "##s.iloc[ ]: Purely integer-location based indexing."
      ],
      "metadata": {
        "id": "OaoE0ukkwsHn"
      }
    },
    {
      "cell_type": "code",
      "source": [
        "# Indexing by position\n",
        "s = pd.Series([1, 3, 5, 7, 9])\n",
        "print(s.iloc[0])  # First element\n",
        "print(s.iloc[-1])  # Last element\n"
      ],
      "metadata": {
        "id": "fpkQfFlWwwRa"
      },
      "execution_count": null,
      "outputs": []
    },
    {
      "cell_type": "markdown",
      "source": [
        "##s.loc[ ]: Label-based indexing."
      ],
      "metadata": {
        "id": "gkAnqQVZxDMm"
      }
    },
    {
      "cell_type": "code",
      "source": [
        "# Indexing by label\n",
        "print(s.loc[0])  # First element\n",
        "print(s.loc[4])  # Last element"
      ],
      "metadata": {
        "colab": {
          "base_uri": "https://localhost:8080/"
        },
        "id": "U5i7bQDpxF6f",
        "outputId": "301ff509-c548-4e60-d2ae-0e34f99d9bcc"
      },
      "execution_count": null,
      "outputs": [
        {
          "output_type": "stream",
          "name": "stdout",
          "text": [
            "1\n",
            "9\n"
          ]
        }
      ]
    },
    {
      "cell_type": "code",
      "source": [
        "from google.colab import drive\n",
        "drive.mount('/content/drive')"
      ],
      "metadata": {
        "id": "1qcxShTfyVC3"
      },
      "execution_count": null,
      "outputs": []
    }
  ],
  "metadata": {
    "kernelspec": {
      "display_name": "Python 3",
      "language": "python",
      "name": "python3"
    },
    "language_info": {
      "codemirror_mode": {
        "name": "ipython",
        "version": 3
      },
      "file_extension": ".py",
      "mimetype": "text/x-python",
      "name": "python",
      "nbconvert_exporter": "python",
      "pygments_lexer": "ipython3",
      "version": "3.13.1"
    },
    "colab": {
      "provenance": [],
      "collapsed_sections": [
        "iVMn-fY52DgS",
        "suXkHVji9J3n"
      ],
      "include_colab_link": true
    }
  },
  "nbformat": 4,
  "nbformat_minor": 0
}